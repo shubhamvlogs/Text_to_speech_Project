{
 "cells": [
  {
   "cell_type": "code",
   "execution_count": 3,
   "metadata": {},
   "outputs": [
    {
     "ename": "IndexError",
     "evalue": "list index out of range",
     "output_type": "error",
     "traceback": [
      "\u001b[1;31m---------------------------------------------------------------------------\u001b[0m",
      "\u001b[1;31mIndexError\u001b[0m                                Traceback (most recent call last)",
      "Cell \u001b[1;32mIn[3], line 11\u001b[0m\n\u001b[0;32m      9\u001b[0m \u001b[39m# print the available languages and voices\u001b[39;00m\n\u001b[0;32m     10\u001b[0m \u001b[39mfor\u001b[39;00m voice \u001b[39min\u001b[39;00m voices:\n\u001b[1;32m---> 11\u001b[0m     \u001b[39mprint\u001b[39m(\u001b[39mf\u001b[39m\u001b[39m'\u001b[39m\u001b[39m{\u001b[39;00mvoice\u001b[39m.\u001b[39;49mlanguages[\u001b[39m0\u001b[39;49m]\u001b[39m}\u001b[39;00m\u001b[39m - \u001b[39m\u001b[39m{\u001b[39;00mvoice\u001b[39m.\u001b[39mname\u001b[39m}\u001b[39;00m\u001b[39m'\u001b[39m)\n\u001b[0;32m     13\u001b[0m \u001b[39m# get user input for the text to be spoken\u001b[39;00m\n\u001b[0;32m     14\u001b[0m text \u001b[39m=\u001b[39m \u001b[39minput\u001b[39m(\u001b[39m\"\u001b[39m\u001b[39mEnter the text to be spoken: \u001b[39m\u001b[39m\"\u001b[39m)\n",
      "\u001b[1;31mIndexError\u001b[0m: list index out of range"
     ]
    }
   ],
   "source": [
    "import pyttsx3\n",
    "\n",
    "# initialize the text-to-speech engine\n",
    "engine = pyttsx3.init()\n",
    "\n",
    "# get the available voices\n",
    "voices = engine.getProperty('voices')\n",
    "\n",
    "# print the available languages and voices\n",
    "for voice in voices:\n",
    "    print(f'{voice.languages[0]} - {voice.name}')\n",
    "\n",
    "# get user input for the text to be spoken\n",
    "text = input(\"Enter the text to be spoken: \")\n",
    "\n",
    "# get user input for the language and voice\n",
    "lang = input(\"Enter the language code (e.g. en, es, fr): \")\n",
    "voice_name = input(\"Enter the voice name: \")\n",
    "\n",
    "# set the voice properties\n",
    "for voice in voices:\n",
    "    if voice.languages[0] == lang and voice.name == voice_name:\n",
    "        engine.setProperty('voice', voice.id)\n",
    "        break\n",
    "\n",
    "# say the text\n",
    "engine.say(text)\n",
    "engine.runAndWait()\n"
   ]
  },
  {
   "cell_type": "code",
   "execution_count": null,
   "metadata": {},
   "outputs": [],
   "source": []
  }
 ],
 "metadata": {
  "kernelspec": {
   "display_name": "Python 3",
   "language": "python",
   "name": "python3"
  },
  "language_info": {
   "codemirror_mode": {
    "name": "ipython",
    "version": 3
   },
   "file_extension": ".py",
   "mimetype": "text/x-python",
   "name": "python",
   "nbconvert_exporter": "python",
   "pygments_lexer": "ipython3",
   "version": "3.11.1"
  },
  "orig_nbformat": 4
 },
 "nbformat": 4,
 "nbformat_minor": 2
}
